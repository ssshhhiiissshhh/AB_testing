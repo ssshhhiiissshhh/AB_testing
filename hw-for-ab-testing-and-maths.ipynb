{
 "cells": [
  {
   "cell_type": "markdown",
   "id": "31c8d92d",
   "metadata": {},
   "source": [
    "В этом блоке проанализируем А/Б тест\n",
    "\n",
    "Мы добавили на лендинг с оформлением дебетовой карты (https://www.tinkoff.ru/cards/debit-cards/tinkoff-black/) информацию о дополнительных кэшбеках, которые появляются благодаря нашим патнерам. Рассчитываем, что это вырастит конверсию из переходов на лендинг в оформление дебетовой карты. \n",
    "\n",
    "В приложенном файле вам доступны логи переходов на сайт и последующего оформления карточки за каждый день. "
   ]
  },
  {
   "cell_type": "code",
   "execution_count": 2,
   "id": "15fcdd54",
   "metadata": {},
   "outputs": [],
   "source": [
    "# загрузим необходимые пакеты\n",
    "\n",
    "import pandas as pd\n",
    "\n",
    "import seaborn as sns\n",
    "import matplotlib.pyplot as plt\n",
    "import scipy.stats\n"
   ]
  },
  {
   "cell_type": "code",
   "execution_count": 4,
   "id": "7eb866a4",
   "metadata": {},
   "outputs": [
    {
     "data": {
      "text/html": [
       "<div>\n",
       "<style scoped>\n",
       "    .dataframe tbody tr th:only-of-type {\n",
       "        vertical-align: middle;\n",
       "    }\n",
       "\n",
       "    .dataframe tbody tr th {\n",
       "        vertical-align: top;\n",
       "    }\n",
       "\n",
       "    .dataframe thead th {\n",
       "        text-align: right;\n",
       "    }\n",
       "</style>\n",
       "<table border=\"1\" class=\"dataframe\">\n",
       "  <thead>\n",
       "    <tr style=\"text-align: right;\">\n",
       "      <th></th>\n",
       "      <th>date</th>\n",
       "      <th>id</th>\n",
       "      <th>group</th>\n",
       "      <th>converted</th>\n",
       "    </tr>\n",
       "  </thead>\n",
       "  <tbody>\n",
       "    <tr>\n",
       "      <th>0</th>\n",
       "      <td>2023-08-01</td>\n",
       "      <td>5030836</td>\n",
       "      <td>control</td>\n",
       "      <td>0</td>\n",
       "    </tr>\n",
       "    <tr>\n",
       "      <th>1</th>\n",
       "      <td>2023-08-01</td>\n",
       "      <td>5091425</td>\n",
       "      <td>control</td>\n",
       "      <td>0</td>\n",
       "    </tr>\n",
       "    <tr>\n",
       "      <th>2</th>\n",
       "      <td>2023-08-01</td>\n",
       "      <td>5106537</td>\n",
       "      <td>control</td>\n",
       "      <td>0</td>\n",
       "    </tr>\n",
       "    <tr>\n",
       "      <th>3</th>\n",
       "      <td>2023-08-01</td>\n",
       "      <td>4556522</td>\n",
       "      <td>control</td>\n",
       "      <td>0</td>\n",
       "    </tr>\n",
       "    <tr>\n",
       "      <th>4</th>\n",
       "      <td>2023-08-01</td>\n",
       "      <td>4002917</td>\n",
       "      <td>control</td>\n",
       "      <td>0</td>\n",
       "    </tr>\n",
       "  </tbody>\n",
       "</table>\n",
       "</div>"
      ],
      "text/plain": [
       "         date       id    group  converted\n",
       "0  2023-08-01  5030836  control          0\n",
       "1  2023-08-01  5091425  control          0\n",
       "2  2023-08-01  5106537  control          0\n",
       "3  2023-08-01  4556522  control          0\n",
       "4  2023-08-01  4002917  control          0"
      ]
     },
     "execution_count": 4,
     "metadata": {},
     "output_type": "execute_result"
    }
   ],
   "source": [
    "# Загрузите таблицу в датафрейм\n",
    "\n",
    "df = pd.read_csv('hw_ab.csv')\n",
    "df.head()"
   ]
  },
  {
   "cell_type": "code",
   "execution_count": 5,
   "id": "12a62fb5-32a2-479b-a67d-70bb48fe10a0",
   "metadata": {},
   "outputs": [
    {
     "name": "stdout",
     "output_type": "stream",
     "text": [
      "<class 'pandas.core.frame.DataFrame'>\n",
      "RangeIndex: 94778 entries, 0 to 94777\n",
      "Data columns (total 4 columns):\n",
      " #   Column     Non-Null Count  Dtype \n",
      "---  ------     --------------  ----- \n",
      " 0   date       94778 non-null  object\n",
      " 1   id         94778 non-null  int64 \n",
      " 2   group      94778 non-null  object\n",
      " 3   converted  94778 non-null  int64 \n",
      "dtypes: int64(2), object(2)\n",
      "memory usage: 2.9+ MB\n"
     ]
    }
   ],
   "source": [
    "df.info()"
   ]
  },
  {
   "cell_type": "code",
   "execution_count": 19,
   "id": "cf71735a-8454-4fda-a6db-f73b2103de3e",
   "metadata": {},
   "outputs": [
    {
     "data": {
      "text/plain": [
       "converted\n",
       "0    84182\n",
       "1    10596\n",
       "Name: count, dtype: int64"
      ]
     },
     "execution_count": 19,
     "metadata": {},
     "output_type": "execute_result"
    }
   ],
   "source": [
    "df.converted.value_counts()"
   ]
  },
  {
   "cell_type": "code",
   "execution_count": null,
   "id": "a21af2f7",
   "metadata": {},
   "outputs": [],
   "source": [
    "# Посмотрите на поля и проанализируйте таблицу: она содержит поля \n",
    "# date — дата захода пользователя на лендинг\n",
    "# id — идентификатор, присвоенный пользователю\n",
    "# group — группа теста или контроля\n",
    "# converted – 1, если пользователь оформил карточку и 0, если не оформил\n",
    "\n"
   ]
  },
  {
   "cell_type": "code",
   "execution_count": null,
   "id": "c30643b7",
   "metadata": {},
   "outputs": [],
   "source": [
    "# убедитесь,что пользователи уникальные\n"
   ]
  },
  {
   "cell_type": "code",
   "execution_count": null,
   "id": "f4951574",
   "metadata": {},
   "outputs": [],
   "source": [
    "# убедитесь, что пользователей в тесте и контрле приблизительно равное количество, \n",
    "# в каждой группе каждый день теста были пользователи, и они как оформляли карту, так и нет\n",
    "\n"
   ]
  },
  {
   "cell_type": "code",
   "execution_count": 20,
   "id": "ed4a55d1-4082-46af-b143-cf4c0de28de5",
   "metadata": {},
   "outputs": [
    {
     "data": {
      "text/plain": [
       "group\n",
       "test       47448\n",
       "control    47330\n",
       "Name: count, dtype: int64"
      ]
     },
     "execution_count": 20,
     "metadata": {},
     "output_type": "execute_result"
    }
   ],
   "source": [
    "df.group.value_counts()"
   ]
  },
  {
   "cell_type": "code",
   "execution_count": null,
   "id": "b83aa200",
   "metadata": {},
   "outputs": [],
   "source": [
    "# отличаются ли конверсии в тесте и в контроле?\n",
    "\n"
   ]
  },
  {
   "cell_type": "code",
   "execution_count": null,
   "id": "ab7c7012",
   "metadata": {},
   "outputs": [],
   "source": [
    "# конверсия в контроле: \n"
   ]
  },
  {
   "cell_type": "code",
   "execution_count": 22,
   "id": "8de851d3-cb23-4c0d-9358-f7e5053fde5a",
   "metadata": {},
   "outputs": [
    {
     "data": {
      "text/plain": [
       "np.int64(4922)"
      ]
     },
     "execution_count": 22,
     "metadata": {},
     "output_type": "execute_result"
    }
   ],
   "source": [
    "df[df.group == 'control'].converted.sum()"
   ]
  },
  {
   "cell_type": "code",
   "execution_count": null,
   "id": "1d363c22",
   "metadata": {},
   "outputs": [],
   "source": [
    "# конверсия в тесте: \n"
   ]
  },
  {
   "cell_type": "code",
   "execution_count": 23,
   "id": "2e2d7819-923b-4cf9-a426-1ae637432334",
   "metadata": {},
   "outputs": [
    {
     "data": {
      "text/plain": [
       "np.int64(5674)"
      ]
     },
     "execution_count": 23,
     "metadata": {},
     "output_type": "execute_result"
    }
   ],
   "source": [
    "df[df.group == 'test'].converted.sum()"
   ]
  },
  {
   "cell_type": "code",
   "execution_count": 40,
   "id": "9c454e1c",
   "metadata": {},
   "outputs": [
    {
     "name": "stdout",
     "output_type": "stream",
     "text": [
      "0.14991652616768292\n"
     ]
    }
   ],
   "source": [
    "# отношение конверсий: \n",
    "\n",
    "conv_test = df[df.group == 'test'].converted.sum()\n",
    "seen_test = df[df.group == 'test'].id.count()\n",
    "\n",
    "conv_control = df[df.group == 'control'].converted.sum()\n",
    "seen_control = df[df.group == 'control'].id.count()\n",
    "\n",
    "print((conv_test/seen_test)/(conv_control/seen_control)-1)"
   ]
  },
  {
   "cell_type": "code",
   "execution_count": 41,
   "id": "1b2b3d86-6cd9-4825-ae09-d853017cb9ae",
   "metadata": {},
   "outputs": [
    {
     "data": {
      "text/plain": [
       "np.float64(0.11958354409037261)"
      ]
     },
     "execution_count": 41,
     "metadata": {},
     "output_type": "execute_result"
    }
   ],
   "source": [
    "conv_test/seen_test"
   ]
  },
  {
   "cell_type": "code",
   "execution_count": 42,
   "id": "de6c87fb-7c1f-4f63-b04e-6760be448ffb",
   "metadata": {},
   "outputs": [
    {
     "data": {
      "text/plain": [
       "np.float64(0.10399323896049018)"
      ]
     },
     "execution_count": 42,
     "metadata": {},
     "output_type": "execute_result"
    }
   ],
   "source": [
    "conv_control/seen_control"
   ]
  },
  {
   "cell_type": "code",
   "execution_count": 43,
   "id": "b2d562bb-94b2-42ea-b78d-038d5d73369c",
   "metadata": {},
   "outputs": [],
   "source": [
    "p_control = conv_control / seen_control"
   ]
  },
  {
   "cell_type": "code",
   "execution_count": null,
   "id": "7ff3f206",
   "metadata": {},
   "outputs": [],
   "source": [
    "# значимо ли это отличие? \n",
    "# проверьте статистическим тестом"
   ]
  },
  {
   "cell_type": "code",
   "execution_count": 100,
   "id": "2f4ac4c9",
   "metadata": {},
   "outputs": [
    {
     "data": {
      "text/plain": [
       "BinomTestResult(k=5674, n=41774, alternative='two-sided', statistic=0.13582611193565375, pvalue=4.4397456969124426e-93)"
      ]
     },
     "execution_count": 100,
     "metadata": {},
     "output_type": "execute_result"
    }
   ],
   "source": [
    "# сначала используем знание о том, что конверсии распределены биномиально: \n",
    "# используйте статистический тест и проинтерпретируйте результаты\n",
    "# как меняется ваш результат в зависимости от принятого вами уровня значимости?\n",
    "\n",
    "from scipy.stats import binomtest\n",
    "\n",
    "binomtest(conv_test, seen_test-conv_test, p=p_control) # используйте документацию, чтобы с помощью conv_test,seen_test,conv_control,seen_control получить результат теста"
   ]
  },
  {
   "cell_type": "code",
   "execution_count": 56,
   "id": "334a9514",
   "metadata": {},
   "outputs": [
    {
     "data": {
      "text/plain": [
       "array(['2023-08-01', '2023-08-02', '2023-08-03', '2023-08-04',\n",
       "       '2023-08-05', '2023-08-06', '2023-08-07', '2023-08-08',\n",
       "       '2023-08-09', '2023-08-10', '2023-08-11', '2023-08-12',\n",
       "       '2023-08-13', '2023-08-14', '2023-08-15', '2023-08-16',\n",
       "       '2023-08-17', '2023-08-18', '2023-08-19', '2023-08-20',\n",
       "       '2023-08-21', '2023-08-22', '2023-08-23', '2023-08-24',\n",
       "       '2023-08-25', '2023-08-26', '2023-08-27', '2023-08-28',\n",
       "       '2023-08-29', '2023-08-30', '2023-08-31', '2023-09-01',\n",
       "       '2023-09-02', '2023-09-03', '2023-09-04', '2023-09-05',\n",
       "       '2023-09-06', '2023-09-07', '2023-09-08', '2023-09-09',\n",
       "       '2023-09-10', '2023-09-11', '2023-09-12', '2023-09-13',\n",
       "       '2023-09-14', '2023-09-15', '2023-09-16', '2023-09-17',\n",
       "       '2023-09-18', '2023-09-19', '2023-09-20', '2023-09-21',\n",
       "       '2023-09-22', '2023-09-23', '2023-09-24', '2023-09-25',\n",
       "       '2023-09-26', '2023-09-27', '2023-09-28', '2023-09-29',\n",
       "       '2023-09-30', '2023-10-01', '2023-10-02', '2023-10-03',\n",
       "       '2023-10-04', '2023-10-05', '2023-10-06', '2023-10-07',\n",
       "       '2023-10-08', '2023-10-09', '2023-10-10', '2023-10-11',\n",
       "       '2023-10-12', '2023-10-13', '2023-10-14', '2023-10-15',\n",
       "       '2023-10-16', '2023-10-17', '2023-10-18', '2023-10-19',\n",
       "       '2023-10-20', '2023-10-21', '2023-10-22', '2023-10-23',\n",
       "       '2023-10-24', '2023-10-25', '2023-10-26', '2023-10-27',\n",
       "       '2023-10-28', '2023-10-29', '2023-10-30', '2023-10-31',\n",
       "       '2023-11-01'], dtype=object)"
      ]
     },
     "execution_count": 56,
     "metadata": {},
     "output_type": "execute_result"
    }
   ],
   "source": [
    "# достаточно ли длинным был тест, чтобы мы могли посчитать средние конверсии и сравнить значимость их различия? \n",
    "# посчитайте количество дней теста, убедитесь, что среди них нет пропусков\n",
    "\n",
    "df.date.unique()"
   ]
  },
  {
   "cell_type": "code",
   "execution_count": 65,
   "id": "5bf8eb4d-447b-4dcd-9a97-0373bef2ba99",
   "metadata": {},
   "outputs": [
    {
     "data": {
      "text/plain": [
       "date\n",
       "2023-08-01    63\n",
       "2023-08-02    58\n",
       "2023-08-03    69\n",
       "2023-08-04    54\n",
       "2023-08-05    47\n",
       "              ..\n",
       "2023-10-28    58\n",
       "2023-10-29    67\n",
       "2023-10-30    58\n",
       "2023-10-31    68\n",
       "2023-11-01    49\n",
       "Name: converted, Length: 93, dtype: int64"
      ]
     },
     "execution_count": 65,
     "metadata": {},
     "output_type": "execute_result"
    }
   ],
   "source": [
    "df[df.group == 'test'].groupby('date').converted.sum()"
   ]
  },
  {
   "cell_type": "code",
   "execution_count": 79,
   "id": "9fe40128-00bd-4737-b3d1-48fe8b7d26b9",
   "metadata": {},
   "outputs": [],
   "source": [
    "conv_test_by_day = df[df.group == 'test'].groupby('date').converted.sum() / df[df.group == 'test'].groupby('date').converted.count()"
   ]
  },
  {
   "cell_type": "code",
   "execution_count": 80,
   "id": "4d27a64c-fd3c-41d6-8e15-7b52e83219e3",
   "metadata": {},
   "outputs": [],
   "source": [
    "conv_control_by_day = df[df.group == 'control'].groupby('date').converted.sum() / df[df.group == 'control'].groupby('date').converted.count()"
   ]
  },
  {
   "cell_type": "code",
   "execution_count": 87,
   "id": "c7a4b257",
   "metadata": {},
   "outputs": [],
   "source": [
    "# посчитайте количество открытых карт и средние конверсии по дням в тесте и в контроле:\n",
    "\n",
    "test_n_by_date = df[df.group == 'test'].groupby('date').converted.sum()\n",
    "control_n_by_date = df[df.group == 'control'].groupby('date').converted.sum()"
   ]
  },
  {
   "cell_type": "code",
   "execution_count": 94,
   "id": "3d06d3ee",
   "metadata": {},
   "outputs": [],
   "source": [
    "# посчитайте конверсию из посещений в оформленние карт по дням\n",
    "test_conv_by_date = conv_test_by_day\n",
    "control_conv_by_date =  conv_control_by_day\n"
   ]
  },
  {
   "cell_type": "code",
   "execution_count": null,
   "id": "e9e39e22",
   "metadata": {},
   "outputs": [],
   "source": []
  },
  {
   "cell_type": "code",
   "execution_count": 92,
   "id": "0dcf45c1",
   "metadata": {},
   "outputs": [
    {
     "data": {
      "text/plain": [
       "(0.0, 100.0)"
      ]
     },
     "execution_count": 92,
     "metadata": {},
     "output_type": "execute_result"
    },
    {
     "data": {
      "image/png": "[encoded data removed]",
      "text/plain": [
       "<Figure size 640x480 with 1 Axes>"
      ]
     },
     "metadata": {},
     "output_type": "display_data"
    }
   ],
   "source": [
    "# построим график, отражающий количество оформленных карт по дням\n",
    "\n",
    "sns.lineplot(data= test_n_by_date, color = \"red\")\n",
    "sns.lineplot(data= control_n_by_date, color =\"blue\")\n",
    "\n",
    "plt.ylim(0, 100)"
   ]
  },
  {
   "cell_type": "code",
   "execution_count": 95,
   "id": "fe0727c9",
   "metadata": {},
   "outputs": [
    {
     "data": {
      "text/plain": [
       "(0.0, 0.2)"
      ]
     },
     "execution_count": 95,
     "metadata": {},
     "output_type": "execute_result"
    },
    {
     "data": {
      "image/png": "[encoded data removed]",
      "text/plain": [
       "<Figure size 640x480 with 1 Axes>"
      ]
     },
     "metadata": {},
     "output_type": "display_data"
    }
   ],
   "source": [
    "# построим график, отражающий конверсию из посещений в оформленние карт по дням\n",
    "\n",
    "sns.lineplot(data= test_conv_by_date, color = \"red\")\n",
    "sns.lineplot(data= control_conv_by_date, color =\"blue\")\n",
    "\n",
    "plt.ylim(0, 0.2)"
   ]
  },
  {
   "cell_type": "code",
   "execution_count": 96,
   "id": "d9195606",
   "metadata": {},
   "outputs": [
    {
     "data": {
      "image/png": "[encoded data removed]",
      "text/plain": [
       "<Figure size 640x480 with 1 Axes>"
      ]
     },
     "metadata": {},
     "output_type": "display_data"
    }
   ],
   "source": [
    "# построим распределения средних значений по дням в тесте и в контроле\n",
    "# на что похоже это распределение?\n",
    "\n",
    "plt.hist(test_conv_by_date, 20, density=True,color='r',alpha=0.3 )\n",
    "plt.hist(control_conv_by_date, 20, density=True,color='b',alpha=0.3 )\n",
    "\n",
    "plt.show()"
   ]
  },
  {
   "cell_type": "code",
   "execution_count": 97,
   "id": "dac6934f",
   "metadata": {},
   "outputs": [
    {
     "data": {
      "image/png": "[encoded data removed]",
      "text/plain": [
       "<Figure size 640x480 with 1 Axes>"
      ]
     },
     "metadata": {},
     "output_type": "display_data"
    }
   ],
   "source": [
    "plt.hist(test_n_by_date, 20, density=True,color='r',alpha=0.3 )\n",
    "plt.hist(control_n_by_date, 20, density=True,color='b',alpha=0.3 )\n",
    "\n",
    "plt.show()"
   ]
  },
  {
   "cell_type": "code",
   "execution_count": 98,
   "id": "de6a092c",
   "metadata": {},
   "outputs": [
    {
     "data": {
      "text/plain": [
       "TtestResult(statistic=np.float64(7.209029622736518), pvalue=np.float64(1.4124701519287306e-11), df=np.float64(184.0))"
      ]
     },
     "execution_count": 98,
     "metadata": {},
     "output_type": "execute_result"
    }
   ],
   "source": [
    "# теперь используем знание о том, что средние конверсии распределены нормально\n",
    "# используйте статистический тест и проинтерпретируйте результаты\n",
    "# как меняется ваш результат в зависимости от принятого вами уровня значимости?\n",
    "\n",
    "from scipy.stats import ttest_ind\n",
    "\n",
    "ttest_ind(test_conv_by_date, control_conv_by_date) # используйте документацию, test_conv_by_date, control_conv_by_date, чтобы провести тест\n"
   ]
  },
  {
   "cell_type": "code",
   "execution_count": null,
   "id": "23d4d918",
   "metadata": {},
   "outputs": [],
   "source": [
    "# используйте тот же статистический тест, чтобы оценить, отличаются ли  и проинтерпретируйте результаты\n",
    "# как меняется ваш результат в зависимости от принятого вами уровня значимости?\n",
    "\n",
    "ttest_ind() # используйте документацию, test_n_by_date, control_n_by_date, чтобы провести тест"
   ]
  },
  {
   "cell_type": "code",
   "execution_count": null,
   "id": "d11fd9c6",
   "metadata": {},
   "outputs": [],
   "source": []
  },
  {
   "cell_type": "code",
   "execution_count": null,
   "id": "94d1f147",
   "metadata": {},
   "outputs": [],
   "source": []
  }
 ],
 "metadata": {
  "kernelspec": {
   "display_name": "Python 3 (ipykernel)",
   "language": "python",
   "name": "python3"
  },
  "language_info": {
   "codemirror_mode": {
    "name": "ipython",
    "version": 3
   },
   "file_extension": ".py",
   "mimetype": "text/x-python",
   "name": "python",
   "nbconvert_exporter": "python",
   "pygments_lexer": "ipython3",
   "version": "3.13.2"
  }
 },
 "nbformat": 4,
 "nbformat_minor": 5
}
