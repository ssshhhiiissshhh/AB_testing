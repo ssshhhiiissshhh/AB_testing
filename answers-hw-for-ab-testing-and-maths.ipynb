{
 "cells": [
  {
   "cell_type": "markdown",
   "id": "7aa611ca",
   "metadata": {},
   "source": [
    "В этом блоке проанализируем А/Б тест\n",
    "\n",
    "Мы добавили на лендинг с оформлением дебетовой карты (https://www.tinkoff.ru/cards/debit-cards/tinkoff-black/) информацию о дополнительных кэшбеках, которые появляются благодаря нашим патнерам. Рассчитываем, что это вырастит конверсию из переходов на лендинг в оформление дебетовой карты. \n",
    "\n",
    "В приложенном файле вам доступны логи переходов на сайт и последующего оформления карточки за каждый день. "
   ]
  },
  {
   "cell_type": "code",
   "execution_count": 1,
   "id": "fc998837",
   "metadata": {},
   "outputs": [],
   "source": [
    "# загрузим необходимые пакеты\n",
    "import pandas as pd\n",
    "import seaborn as sns\n",
    "import matplotlib.pyplot as plt\n"
   ]
  },
  {
   "cell_type": "code",
   "execution_count": 2,
   "id": "9ac084c8",
   "metadata": {},
   "outputs": [],
   "source": [
    "# Загрузите таблицу в датафрейм\n",
    "\n",
    "df = pd.read_csv('hw_ab.csv')"
   ]
  },
  {
   "cell_type": "code",
   "execution_count": 3,
   "id": "a8cb884e",
   "metadata": {},
   "outputs": [
    {
     "data": {
      "text/html": [
       "<div>\n",
       "<style scoped>\n",
       "    .dataframe tbody tr th:only-of-type {\n",
       "        vertical-align: middle;\n",
       "    }\n",
       "\n",
       "    .dataframe tbody tr th {\n",
       "        vertical-align: top;\n",
       "    }\n",
       "\n",
       "    .dataframe thead th {\n",
       "        text-align: right;\n",
       "    }\n",
       "</style>\n",
       "<table border=\"1\" class=\"dataframe\">\n",
       "  <thead>\n",
       "    <tr style=\"text-align: right;\">\n",
       "      <th></th>\n",
       "      <th>date</th>\n",
       "      <th>id</th>\n",
       "      <th>group</th>\n",
       "      <th>converted</th>\n",
       "    </tr>\n",
       "  </thead>\n",
       "  <tbody>\n",
       "    <tr>\n",
       "      <th>0</th>\n",
       "      <td>2023-08-01</td>\n",
       "      <td>5030836</td>\n",
       "      <td>control</td>\n",
       "      <td>0</td>\n",
       "    </tr>\n",
       "    <tr>\n",
       "      <th>1</th>\n",
       "      <td>2023-08-01</td>\n",
       "      <td>5091425</td>\n",
       "      <td>control</td>\n",
       "      <td>0</td>\n",
       "    </tr>\n",
       "    <tr>\n",
       "      <th>2</th>\n",
       "      <td>2023-08-01</td>\n",
       "      <td>5106537</td>\n",
       "      <td>control</td>\n",
       "      <td>0</td>\n",
       "    </tr>\n",
       "    <tr>\n",
       "      <th>3</th>\n",
       "      <td>2023-08-01</td>\n",
       "      <td>4556522</td>\n",
       "      <td>control</td>\n",
       "      <td>0</td>\n",
       "    </tr>\n",
       "    <tr>\n",
       "      <th>4</th>\n",
       "      <td>2023-08-01</td>\n",
       "      <td>4002917</td>\n",
       "      <td>control</td>\n",
       "      <td>0</td>\n",
       "    </tr>\n",
       "  </tbody>\n",
       "</table>\n",
       "</div>"
      ],
      "text/plain": [
       "         date       id    group  converted\n",
       "0  2023-08-01  5030836  control          0\n",
       "1  2023-08-01  5091425  control          0\n",
       "2  2023-08-01  5106537  control          0\n",
       "3  2023-08-01  4556522  control          0\n",
       "4  2023-08-01  4002917  control          0"
      ]
     },
     "execution_count": 3,
     "metadata": {},
     "output_type": "execute_result"
    }
   ],
   "source": [
    "# Посмотрите на поля и проанализируйте таблицу: она содержит поля \n",
    "# date — дата захода пользователя на лендинг\n",
    "# id — идентификатор, присвоенный пользователю\n",
    "# group — группа теста или контроля\n",
    "# converted – 1, если пользователь оформил карточку и 0, если не оформил\n",
    "\n",
    "df.head()"
   ]
  },
  {
   "cell_type": "code",
   "execution_count": 4,
   "id": "b152a836",
   "metadata": {},
   "outputs": [
    {
     "data": {
      "text/plain": [
       "True"
      ]
     },
     "execution_count": 4,
     "metadata": {},
     "output_type": "execute_result"
    }
   ],
   "source": [
    "# убедимся,что пользователи уникальные\n",
    "len(df)==df['id'].nunique()"
   ]
  },
  {
   "cell_type": "code",
   "execution_count": 5,
   "id": "aaa4cfa6",
   "metadata": {},
   "outputs": [
    {
     "data": {
      "text/html": [
       "<div>\n",
       "<style scoped>\n",
       "    .dataframe tbody tr th:only-of-type {\n",
       "        vertical-align: middle;\n",
       "    }\n",
       "\n",
       "    .dataframe tbody tr th {\n",
       "        vertical-align: top;\n",
       "    }\n",
       "\n",
       "    .dataframe thead th {\n",
       "        text-align: right;\n",
       "    }\n",
       "</style>\n",
       "<table border=\"1\" class=\"dataframe\">\n",
       "  <thead>\n",
       "    <tr style=\"text-align: right;\">\n",
       "      <th></th>\n",
       "      <th>date</th>\n",
       "      <th>id</th>\n",
       "      <th>converted</th>\n",
       "    </tr>\n",
       "    <tr>\n",
       "      <th>group</th>\n",
       "      <th></th>\n",
       "      <th></th>\n",
       "      <th></th>\n",
       "    </tr>\n",
       "  </thead>\n",
       "  <tbody>\n",
       "    <tr>\n",
       "      <th>control</th>\n",
       "      <td>93</td>\n",
       "      <td>47330</td>\n",
       "      <td>2</td>\n",
       "    </tr>\n",
       "    <tr>\n",
       "      <th>test</th>\n",
       "      <td>93</td>\n",
       "      <td>47448</td>\n",
       "      <td>2</td>\n",
       "    </tr>\n",
       "  </tbody>\n",
       "</table>\n",
       "</div>"
      ],
      "text/plain": [
       "         date     id  converted\n",
       "group                          \n",
       "control    93  47330          2\n",
       "test       93  47448          2"
      ]
     },
     "execution_count": 5,
     "metadata": {},
     "output_type": "execute_result"
    }
   ],
   "source": [
    "# убедимся, что пользователей в тесте и контрле приблизительно равное количество, \n",
    "# в каждой группе каждый день теста были пользователи, и они как оформляли карту, так и нет\n",
    "\n",
    "df.groupby('group').nunique()"
   ]
  },
  {
   "cell_type": "code",
   "execution_count": 6,
   "id": "9aad15be",
   "metadata": {},
   "outputs": [
    {
     "data": {
      "text/html": [
       "<div>\n",
       "<style scoped>\n",
       "    .dataframe tbody tr th:only-of-type {\n",
       "        vertical-align: middle;\n",
       "    }\n",
       "\n",
       "    .dataframe tbody tr th {\n",
       "        vertical-align: top;\n",
       "    }\n",
       "\n",
       "    .dataframe thead th {\n",
       "        text-align: right;\n",
       "    }\n",
       "</style>\n",
       "<table border=\"1\" class=\"dataframe\">\n",
       "  <thead>\n",
       "    <tr style=\"text-align: right;\">\n",
       "      <th></th>\n",
       "      <th></th>\n",
       "      <th>id</th>\n",
       "    </tr>\n",
       "    <tr>\n",
       "      <th>group</th>\n",
       "      <th>converted</th>\n",
       "      <th></th>\n",
       "    </tr>\n",
       "  </thead>\n",
       "  <tbody>\n",
       "    <tr>\n",
       "      <th rowspan=\"2\" valign=\"top\">control</th>\n",
       "      <th>0</th>\n",
       "      <td>42408</td>\n",
       "    </tr>\n",
       "    <tr>\n",
       "      <th>1</th>\n",
       "      <td>4922</td>\n",
       "    </tr>\n",
       "    <tr>\n",
       "      <th rowspan=\"2\" valign=\"top\">test</th>\n",
       "      <th>0</th>\n",
       "      <td>41774</td>\n",
       "    </tr>\n",
       "    <tr>\n",
       "      <th>1</th>\n",
       "      <td>5674</td>\n",
       "    </tr>\n",
       "  </tbody>\n",
       "</table>\n",
       "</div>"
      ],
      "text/plain": [
       "                      id\n",
       "group   converted       \n",
       "control 0          42408\n",
       "        1           4922\n",
       "test    0          41774\n",
       "        1           5674"
      ]
     },
     "execution_count": 6,
     "metadata": {},
     "output_type": "execute_result"
    }
   ],
   "source": [
    "# отличаются ли конверсии в тесте и в контроле?\n",
    "\n",
    "df[['group','converted','id']].groupby(['group','converted']).count()"
   ]
  },
  {
   "cell_type": "code",
   "execution_count": 7,
   "id": "5771d8a1",
   "metadata": {},
   "outputs": [
    {
     "data": {
      "text/plain": [
       "0.10399323896049018"
      ]
     },
     "execution_count": 7,
     "metadata": {},
     "output_type": "execute_result"
    }
   ],
   "source": [
    "# конверсия в контроле: \n",
    "4922/(4922+42408)"
   ]
  },
  {
   "cell_type": "code",
   "execution_count": 8,
   "id": "f5e12dba",
   "metadata": {},
   "outputs": [
    {
     "data": {
      "text/plain": [
       "0.11958354409037261"
      ]
     },
     "execution_count": 8,
     "metadata": {},
     "output_type": "execute_result"
    }
   ],
   "source": [
    "# конверсия в тесте: \n",
    "5674/(5674+41774)"
   ]
  },
  {
   "cell_type": "code",
   "execution_count": 9,
   "id": "e23a479e",
   "metadata": {},
   "outputs": [
    {
     "name": "stdout",
     "output_type": "stream",
     "text": [
      "0.14991652616768292\n"
     ]
    }
   ],
   "source": [
    "# отношение конверсий: \n",
    "\n",
    "conv_test=sum(list(df.loc[df['group']=='test']['converted']))\n",
    "seen_test=len(list(df.loc[df['group']=='test']['converted']))\n",
    "\n",
    "conv_control=sum(list(df.loc[df['group']=='control']['converted']))\n",
    "seen_control=len(list(df.loc[df['group']=='control']['converted']))\n",
    "\n",
    "print((conv_test/seen_test)/(conv_control/seen_control)-1)"
   ]
  },
  {
   "cell_type": "code",
   "execution_count": null,
   "id": "deda6289",
   "metadata": {},
   "outputs": [],
   "source": [
    "# значимо ли это отличие? \n",
    "# проверьте статистическим тестом"
   ]
  },
  {
   "cell_type": "code",
   "execution_count": 10,
   "id": "848bedb8",
   "metadata": {},
   "outputs": [
    {
     "data": {
      "text/plain": [
       "6.512476313977734e-35"
      ]
     },
     "execution_count": 10,
     "metadata": {},
     "output_type": "execute_result"
    }
   ],
   "source": [
    "# сначала используем знание о том, что конверсии распределены биномиально: \n",
    "# используйте статистический тест и проинтерпретируйте результаты\n",
    "# как меняется ваш результат в зависимости от принятого вами уровня значимости?\n",
    "\n",
    "from scipy.stats import binom_test\n",
    "\n",
    "binom_test(conv_test, seen_test-conv_test, conv_control/(seen_control-conv_control))"
   ]
  },
  {
   "cell_type": "code",
   "execution_count": null,
   "id": "d9c34a7e",
   "metadata": {},
   "outputs": [],
   "source": [
    "# конверсии отличаются значимо на 99+ уровне значимости"
   ]
  },
  {
   "cell_type": "code",
   "execution_count": 11,
   "id": "5deeca01",
   "metadata": {},
   "outputs": [
    {
     "data": {
      "text/plain": [
       "93"
      ]
     },
     "execution_count": 11,
     "metadata": {},
     "output_type": "execute_result"
    }
   ],
   "source": [
    "# достаточно ли длинным был тест, чтобы мы могли посчитать средние конверсии и сравнить значимость их различия? \n",
    "# посчитайте количество дней теста, убедитесь, что среди них нет пропусков\n",
    "\n",
    "df['date'].nunique()"
   ]
  },
  {
   "cell_type": "code",
   "execution_count": 12,
   "id": "b2d803c4",
   "metadata": {},
   "outputs": [
    {
     "data": {
      "text/plain": [
       "array(['2023-08-01', '2023-08-02', '2023-08-03', '2023-08-04',\n",
       "       '2023-08-05', '2023-08-06', '2023-08-07', '2023-08-08',\n",
       "       '2023-08-09', '2023-08-10', '2023-08-11', '2023-08-12',\n",
       "       '2023-08-13', '2023-08-14', '2023-08-15', '2023-08-16',\n",
       "       '2023-08-17', '2023-08-18', '2023-08-19', '2023-08-20',\n",
       "       '2023-08-21', '2023-08-22', '2023-08-23', '2023-08-24',\n",
       "       '2023-08-25', '2023-08-26', '2023-08-27', '2023-08-28',\n",
       "       '2023-08-29', '2023-08-30', '2023-08-31', '2023-09-01',\n",
       "       '2023-09-02', '2023-09-03', '2023-09-04', '2023-09-05',\n",
       "       '2023-09-06', '2023-09-07', '2023-09-08', '2023-09-09',\n",
       "       '2023-09-10', '2023-09-11', '2023-09-12', '2023-09-13',\n",
       "       '2023-09-14', '2023-09-15', '2023-09-16', '2023-09-17',\n",
       "       '2023-09-18', '2023-09-19', '2023-09-20', '2023-09-21',\n",
       "       '2023-09-22', '2023-09-23', '2023-09-24', '2023-09-25',\n",
       "       '2023-09-26', '2023-09-27', '2023-09-28', '2023-09-29',\n",
       "       '2023-09-30', '2023-10-01', '2023-10-02', '2023-10-03',\n",
       "       '2023-10-04', '2023-10-05', '2023-10-06', '2023-10-07',\n",
       "       '2023-10-08', '2023-10-09', '2023-10-10', '2023-10-11',\n",
       "       '2023-10-12', '2023-10-13', '2023-10-14', '2023-10-15',\n",
       "       '2023-10-16', '2023-10-17', '2023-10-18', '2023-10-19',\n",
       "       '2023-10-20', '2023-10-21', '2023-10-22', '2023-10-23',\n",
       "       '2023-10-24', '2023-10-25', '2023-10-26', '2023-10-27',\n",
       "       '2023-10-28', '2023-10-29', '2023-10-30', '2023-10-31',\n",
       "       '2023-11-01'], dtype=object)"
      ]
     },
     "execution_count": 12,
     "metadata": {},
     "output_type": "execute_result"
    }
   ],
   "source": [
    "df['date'].unique()"
   ]
  },
  {
   "cell_type": "code",
   "execution_count": null,
   "id": "2879d6d2",
   "metadata": {},
   "outputs": [],
   "source": []
  },
  {
   "cell_type": "code",
   "execution_count": 13,
   "id": "cdeff0e4",
   "metadata": {},
   "outputs": [
    {
     "data": {
      "text/html": [
       "<div>\n",
       "<style scoped>\n",
       "    .dataframe tbody tr th:only-of-type {\n",
       "        vertical-align: middle;\n",
       "    }\n",
       "\n",
       "    .dataframe tbody tr th {\n",
       "        vertical-align: top;\n",
       "    }\n",
       "\n",
       "    .dataframe thead th {\n",
       "        text-align: right;\n",
       "    }\n",
       "</style>\n",
       "<table border=\"1\" class=\"dataframe\">\n",
       "  <thead>\n",
       "    <tr style=\"text-align: right;\">\n",
       "      <th></th>\n",
       "      <th>group</th>\n",
       "      <th>date</th>\n",
       "      <th>converted</th>\n",
       "    </tr>\n",
       "  </thead>\n",
       "  <tbody>\n",
       "    <tr>\n",
       "      <th>0</th>\n",
       "      <td>control</td>\n",
       "      <td>2023-08-01</td>\n",
       "      <td>45</td>\n",
       "    </tr>\n",
       "    <tr>\n",
       "      <th>1</th>\n",
       "      <td>control</td>\n",
       "      <td>2023-08-02</td>\n",
       "      <td>63</td>\n",
       "    </tr>\n",
       "    <tr>\n",
       "      <th>2</th>\n",
       "      <td>control</td>\n",
       "      <td>2023-08-03</td>\n",
       "      <td>60</td>\n",
       "    </tr>\n",
       "    <tr>\n",
       "      <th>3</th>\n",
       "      <td>control</td>\n",
       "      <td>2023-08-04</td>\n",
       "      <td>56</td>\n",
       "    </tr>\n",
       "    <tr>\n",
       "      <th>4</th>\n",
       "      <td>control</td>\n",
       "      <td>2023-08-05</td>\n",
       "      <td>54</td>\n",
       "    </tr>\n",
       "    <tr>\n",
       "      <th>...</th>\n",
       "      <td>...</td>\n",
       "      <td>...</td>\n",
       "      <td>...</td>\n",
       "    </tr>\n",
       "    <tr>\n",
       "      <th>181</th>\n",
       "      <td>test</td>\n",
       "      <td>2023-10-28</td>\n",
       "      <td>58</td>\n",
       "    </tr>\n",
       "    <tr>\n",
       "      <th>182</th>\n",
       "      <td>test</td>\n",
       "      <td>2023-10-29</td>\n",
       "      <td>67</td>\n",
       "    </tr>\n",
       "    <tr>\n",
       "      <th>183</th>\n",
       "      <td>test</td>\n",
       "      <td>2023-10-30</td>\n",
       "      <td>58</td>\n",
       "    </tr>\n",
       "    <tr>\n",
       "      <th>184</th>\n",
       "      <td>test</td>\n",
       "      <td>2023-10-31</td>\n",
       "      <td>68</td>\n",
       "    </tr>\n",
       "    <tr>\n",
       "      <th>185</th>\n",
       "      <td>test</td>\n",
       "      <td>2023-11-01</td>\n",
       "      <td>49</td>\n",
       "    </tr>\n",
       "  </tbody>\n",
       "</table>\n",
       "<p>186 rows × 3 columns</p>\n",
       "</div>"
      ],
      "text/plain": [
       "       group        date  converted\n",
       "0    control  2023-08-01         45\n",
       "1    control  2023-08-02         63\n",
       "2    control  2023-08-03         60\n",
       "3    control  2023-08-04         56\n",
       "4    control  2023-08-05         54\n",
       "..       ...         ...        ...\n",
       "181     test  2023-10-28         58\n",
       "182     test  2023-10-29         67\n",
       "183     test  2023-10-30         58\n",
       "184     test  2023-10-31         68\n",
       "185     test  2023-11-01         49\n",
       "\n",
       "[186 rows x 3 columns]"
      ]
     },
     "execution_count": 13,
     "metadata": {},
     "output_type": "execute_result"
    }
   ],
   "source": [
    "# посчитайте количество открытых карт и средние конверсии по дням в тесте и в контроле:\n",
    "\n",
    "res_by_day = df[['group','converted','date']].groupby(['group','date'], as_index=False).sum()\n",
    "res_by_day"
   ]
  },
  {
   "cell_type": "code",
   "execution_count": 14,
   "id": "56c3aa30",
   "metadata": {},
   "outputs": [
    {
     "data": {
      "text/html": [
       "<div>\n",
       "<style scoped>\n",
       "    .dataframe tbody tr th:only-of-type {\n",
       "        vertical-align: middle;\n",
       "    }\n",
       "\n",
       "    .dataframe tbody tr th {\n",
       "        vertical-align: top;\n",
       "    }\n",
       "\n",
       "    .dataframe thead th {\n",
       "        text-align: right;\n",
       "    }\n",
       "</style>\n",
       "<table border=\"1\" class=\"dataframe\">\n",
       "  <thead>\n",
       "    <tr style=\"text-align: right;\">\n",
       "      <th></th>\n",
       "      <th>group</th>\n",
       "      <th>date</th>\n",
       "      <th>converted</th>\n",
       "    </tr>\n",
       "  </thead>\n",
       "  <tbody>\n",
       "    <tr>\n",
       "      <th>0</th>\n",
       "      <td>control</td>\n",
       "      <td>2023-08-01</td>\n",
       "      <td>0.087891</td>\n",
       "    </tr>\n",
       "    <tr>\n",
       "      <th>1</th>\n",
       "      <td>control</td>\n",
       "      <td>2023-08-02</td>\n",
       "      <td>0.123047</td>\n",
       "    </tr>\n",
       "    <tr>\n",
       "      <th>2</th>\n",
       "      <td>control</td>\n",
       "      <td>2023-08-03</td>\n",
       "      <td>0.109689</td>\n",
       "    </tr>\n",
       "    <tr>\n",
       "      <th>3</th>\n",
       "      <td>control</td>\n",
       "      <td>2023-08-04</td>\n",
       "      <td>0.115226</td>\n",
       "    </tr>\n",
       "    <tr>\n",
       "      <th>4</th>\n",
       "      <td>control</td>\n",
       "      <td>2023-08-05</td>\n",
       "      <td>0.105263</td>\n",
       "    </tr>\n",
       "    <tr>\n",
       "      <th>...</th>\n",
       "      <td>...</td>\n",
       "      <td>...</td>\n",
       "      <td>...</td>\n",
       "    </tr>\n",
       "    <tr>\n",
       "      <th>181</th>\n",
       "      <td>test</td>\n",
       "      <td>2023-10-28</td>\n",
       "      <td>0.109434</td>\n",
       "    </tr>\n",
       "    <tr>\n",
       "      <th>182</th>\n",
       "      <td>test</td>\n",
       "      <td>2023-10-29</td>\n",
       "      <td>0.124535</td>\n",
       "    </tr>\n",
       "    <tr>\n",
       "      <th>183</th>\n",
       "      <td>test</td>\n",
       "      <td>2023-10-30</td>\n",
       "      <td>0.120833</td>\n",
       "    </tr>\n",
       "    <tr>\n",
       "      <th>184</th>\n",
       "      <td>test</td>\n",
       "      <td>2023-10-31</td>\n",
       "      <td>0.133858</td>\n",
       "    </tr>\n",
       "    <tr>\n",
       "      <th>185</th>\n",
       "      <td>test</td>\n",
       "      <td>2023-11-01</td>\n",
       "      <td>0.093333</td>\n",
       "    </tr>\n",
       "  </tbody>\n",
       "</table>\n",
       "<p>186 rows × 3 columns</p>\n",
       "</div>"
      ],
      "text/plain": [
       "       group        date  converted\n",
       "0    control  2023-08-01   0.087891\n",
       "1    control  2023-08-02   0.123047\n",
       "2    control  2023-08-03   0.109689\n",
       "3    control  2023-08-04   0.115226\n",
       "4    control  2023-08-05   0.105263\n",
       "..       ...         ...        ...\n",
       "181     test  2023-10-28   0.109434\n",
       "182     test  2023-10-29   0.124535\n",
       "183     test  2023-10-30   0.120833\n",
       "184     test  2023-10-31   0.133858\n",
       "185     test  2023-11-01   0.093333\n",
       "\n",
       "[186 rows x 3 columns]"
      ]
     },
     "execution_count": 14,
     "metadata": {},
     "output_type": "execute_result"
    }
   ],
   "source": [
    "res_by_day_conv = df[['group','converted','date']].groupby(['group','date'], as_index=False).mean()\n",
    "res_by_day_conv"
   ]
  },
  {
   "cell_type": "code",
   "execution_count": null,
   "id": "335a21f8",
   "metadata": {},
   "outputs": [],
   "source": []
  },
  {
   "cell_type": "code",
   "execution_count": 15,
   "id": "c556e60d",
   "metadata": {},
   "outputs": [
    {
     "data": {
      "text/plain": [
       "(0.0, 100.0)"
      ]
     },
     "execution_count": 15,
     "metadata": {},
     "output_type": "execute_result"
    },
    {
     "data": {
      "image/png": "[encoded data removed]",
      "text/plain": [
       "<Figure size 640x480 with 1 Axes>"
      ]
     },
     "metadata": {},
     "output_type": "display_data"
    }
   ],
   "source": [
    "# построим график, отражающий количество оформленных карт по дням\n",
    "test_n_by_date = list(res_by_day.loc[res_by_day['group']=='test']['converted'])\n",
    "control_n_by_date = list(res_by_day.loc[res_by_day['group']=='control']['converted'])\n",
    "\n",
    "sns.lineplot(data= test_n_by_date, color = \"red\")\n",
    "sns.lineplot(data= control_n_by_date, color =\"blue\")\n",
    "\n",
    "plt.ylim(0, 100)"
   ]
  },
  {
   "cell_type": "code",
   "execution_count": 16,
   "id": "c5f3846c",
   "metadata": {},
   "outputs": [
    {
     "data": {
      "text/plain": [
       "(0.0, 0.2)"
      ]
     },
     "execution_count": 16,
     "metadata": {},
     "output_type": "execute_result"
    },
    {
     "data": {
      "image/png": "[encoded data removed]",
      "text/plain": [
       "<Figure size 640x480 with 1 Axes>"
      ]
     },
     "metadata": {},
     "output_type": "display_data"
    }
   ],
   "source": [
    "# построим график, отражающий конверсию из посещений в оформленние карт по дням\n",
    "test_conv_by_date = list(res_by_day_conv.loc[res_by_day_conv['group']=='test']['converted'])\n",
    "control_conv_by_date = list(res_by_day_conv.loc[res_by_day_conv['group']=='control']['converted'])\n",
    "\n",
    "\n",
    "sns.lineplot(data= test_conv_by_date, color = \"red\")\n",
    "sns.lineplot(data= control_conv_by_date, color =\"blue\")\n",
    "\n",
    "plt.ylim(0, 0.2)"
   ]
  },
  {
   "cell_type": "code",
   "execution_count": null,
   "id": "ccdb6660",
   "metadata": {},
   "outputs": [],
   "source": []
  },
  {
   "cell_type": "code",
   "execution_count": 20,
   "id": "999e059d",
   "metadata": {},
   "outputs": [
    {
     "data": {
      "image/png": "[encoded data removed]",
      "text/plain": [
       "<Figure size 640x480 with 1 Axes>"
      ]
     },
     "metadata": {},
     "output_type": "display_data"
    }
   ],
   "source": [
    "# построим распределения средних значений по дням в тесте и в контроле\n",
    "# на что похоже это распределение?\n",
    "\n",
    "plt.hist(test_conv_by_date, 20, density=True,color='r',alpha=0.3 )\n",
    "plt.hist(control_conv_by_date, 20, density=True,color='b',alpha=0.3 )\n",
    "\n",
    "plt.show()"
   ]
  },
  {
   "cell_type": "code",
   "execution_count": 21,
   "id": "1a2a70e5",
   "metadata": {},
   "outputs": [
    {
     "data": {
      "image/png": "[encoded data removed]",
      "text/plain": [
       "<Figure size 640x480 with 1 Axes>"
      ]
     },
     "metadata": {},
     "output_type": "display_data"
    }
   ],
   "source": [
    "plt.hist(test_n_by_date, 20, density=True,color='r',alpha=0.3 )\n",
    "plt.hist(control_n_by_date, 20, density=True,color='b',alpha=0.3 )\n",
    "\n",
    "plt.show()"
   ]
  },
  {
   "cell_type": "code",
   "execution_count": 17,
   "id": "e32d5444",
   "metadata": {},
   "outputs": [
    {
     "data": {
      "text/plain": [
       "Ttest_indResult(statistic=7.209029622736518, pvalue=1.4124701519287306e-11)"
      ]
     },
     "execution_count": 17,
     "metadata": {},
     "output_type": "execute_result"
    }
   ],
   "source": [
    "# теперь используем знание о том, что средние конверсии распределены нормально\n",
    "# используйте статистический тест и проинтерпретируйте результаты\n",
    "# как меняется ваш результат в зависимости от принятого вами уровня значимости?\n",
    "\n",
    "from scipy.stats import ttest_ind\n",
    "\n",
    "ttest_ind(test_conv_by_date, control_conv_by_date)\n"
   ]
  },
  {
   "cell_type": "code",
   "execution_count": 18,
   "id": "a01ddab6",
   "metadata": {},
   "outputs": [
    {
     "data": {
      "text/plain": [
       "Ttest_indResult(statistic=7.048113433738303, pvalue=3.529180601649641e-11)"
      ]
     },
     "execution_count": 18,
     "metadata": {},
     "output_type": "execute_result"
    }
   ],
   "source": [
    "# используйте тот же статистический тест, чтобы оценить, отличаются ли  и проинтерпретируйте результаты\n",
    "# как меняется ваш результат в зависимости от принятого вами уровня значимости?\n",
    "\n",
    "ttest_ind(test_n_by_date, control_n_by_date)"
   ]
  },
  {
   "cell_type": "code",
   "execution_count": null,
   "id": "ab3aea72",
   "metadata": {},
   "outputs": [],
   "source": [
    "# получаем, что по ttest средние по дням конверсии отличаются значимо"
   ]
  },
  {
   "cell_type": "code",
   "execution_count": null,
   "id": "c2e77532",
   "metadata": {},
   "outputs": [],
   "source": []
  },
  {
   "cell_type": "code",
   "execution_count": null,
   "id": "623d919f",
   "metadata": {},
   "outputs": [],
   "source": []
  }
 ],
 "metadata": {
  "kernelspec": {
   "display_name": "Python 3 (ipykernel)",
   "language": "python",
   "name": "python3"
  },
  "language_info": {
   "codemirror_mode": {
    "name": "ipython",
    "version": 3
   },
   "file_extension": ".py",
   "mimetype": "text/x-python",
   "name": "python",
   "nbconvert_exporter": "python",
   "pygments_lexer": "ipython3",
   "version": "3.13.2"
  }
 },
 "nbformat": 4,
 "nbformat_minor": 5
}
